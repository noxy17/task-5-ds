import pandas as pd
import numpy as np
import seaborn as sns
import matplotlib.pyplot as plt
from sklearn.linear_model import LogisticRegression
from sklearn.model_selection import train_test_split
from sklearn.metrics import accuracy_score, confusion_matrix

# Sample dataset
data = pd.DataFrame({
    'Study Hours': [5, 10, 2, 8, 12, 1, 6, 3, 7, 9],
    'Attendance': [70, 90, 60, 85, 95, 50, 75, 65, 80, 88],
    'Pass': [0, 1, 0, 1, 1, 0, 1, 0, 1, 1]
})

# Data exploration
print(data.describe())
print("\nMissing Values:\n", data.isnull().sum())

# Visualization
sns.scatterplot(x='Study Hours', y='Attendance', hue='Pass', data=data)
plt.title('Study Hours vs Attendance vs Pass')
plt.show()

# Features and target
X = data[['Study Hours', 'Attendance']]
y = data['Pass']

# Train-test split
X_train, X_test, y_train, y_test = train_test_split(X, y, test_size=0.2, random_state=42)

# Model training
model = LogisticRegression()
model.fit(X_train, y_train)

# Predictions
y_pred = model.predict(X_test)

# Evaluation
accuracy = accuracy_score(y_test, y_pred)
conf_matrix = confusion_matrix(y_test, y_pred)

print(f"Accuracy: {accuracy}")
print("Confusion Matrix:\n", conf_matrix)
